{
 "cells": [
  {
   "cell_type": "code",
   "execution_count": 2,
   "metadata": {},
   "outputs": [
    {
     "name": "stdout",
     "output_type": "stream",
     "text": [
      "Age of inftant in month: 3.0\n"
     ]
    }
   ],
   "source": [
    "import tkinter as tk\n",
    "from tkinter import messagebox\n",
    "\n",
    "# 定义处理数字的函数\n",
    "def image_transform_for_infant(number):\n",
    "    # 在这里处理传入的数字\n",
    "    # 可以添加你需要的逻辑，例如处理图像或其他操作\n",
    "    print(f\"Age of inftant in month: {number}\")\n",
    "    # 示例：返回处理后的数字\n",
    "    return number * 2\n",
    "\n",
    "# 获取输入数字并传递给 image_transform_for_infant 的函数\n",
    "def get_number():\n",
    "    try:\n",
    "        # 获取输入框中的数字并转换为浮点数\n",
    "        number = float(entry.get())\n",
    "        # 将数字传递给 image_transform_for_infant 函数\n",
    "        result = image_transform_for_infant(number)\n",
    "        # 显示结果\n",
    "        messagebox.showinfo(\"result\", f\"result is: {result}\")\n",
    "    except ValueError:\n",
    "        # 如果输入的不是有效数字，显示错误信息\n",
    "        messagebox.showerror(\"Error\", \"Enter valid number!\")\n",
    "\n",
    "# 创建主窗口\n",
    "root = tk.Tk()\n",
    "root.title(\"Age of infant in month\")\n",
    "\n",
    "# 创建并放置标签、输入框和按钮\n",
    "label = tk.Label(root, text=\"Enter the age of infant：\")\n",
    "label.pack(pady=5)\n",
    "\n",
    "entry = tk.Entry(root)\n",
    "entry.pack(pady=5)\n",
    "\n",
    "button = tk.Button(root, text=\"submit\", command=get_number)\n",
    "button.pack(pady=10)\n",
    "\n",
    "# 启动主循环\n",
    "root.mainloop()\n"
   ]
  }
 ],
 "metadata": {
  "kernelspec": {
   "display_name": "Python 3",
   "language": "python",
   "name": "python3"
  },
  "language_info": {
   "codemirror_mode": {
    "name": "ipython",
    "version": 3
   },
   "file_extension": ".py",
   "mimetype": "text/x-python",
   "name": "python",
   "nbconvert_exporter": "python",
   "pygments_lexer": "ipython3",
   "version": "3.12.3"
  }
 },
 "nbformat": 4,
 "nbformat_minor": 2
}
